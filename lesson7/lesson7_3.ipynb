{
 "cells": [
  {
   "cell_type": "code",
   "execution_count": null,
   "id": "e104debd",
   "metadata": {},
   "outputs": [
    {
     "data": {
      "text/markdown": [
       "人工智慧（AI）的運作原理，可以簡單理解為**「透過從大量數據中學習，識別出模式，然後將這些學到的模式應用於處理新數據並做出預測或決策」**。它"
      ],
      "text/plain": [
       "<IPython.core.display.Markdown object>"
      ]
     },
     "metadata": {},
     "output_type": "display_data"
    },
    {
     "data": {
      "text/markdown": [
       "就像一個非常聰明的學生，透過大量的練習和經驗來掌握知識和技能。\n",
       "\n",
       "以下是AI工作的核心步驟和組成部分：\n",
       "\n",
       "### 1. 核心組成部分\n",
       "\n",
       "*   **1.1 大量數據 ("
      ],
      "text/plain": [
       "<IPython.core.display.Markdown object>"
      ]
     },
     "metadata": {},
     "output_type": "display_data"
    },
    {
     "data": {
      "text/markdown": [
       "Big Data)：AI的「食物」或「教材」**\n",
       "    AI需要海量、多樣且高品質的數據來學習，這些數據可以是圖片、文字、聲音、影片、數字表格等。數據越多、越"
      ],
      "text/plain": [
       "<IPython.core.display.Markdown object>"
      ]
     },
     "metadata": {},
     "output_type": "display_data"
    },
    {
     "data": {
      "text/markdown": [
       "好，AI學習到的模式就越精確。\n",
       "    *   **範例：** 如果要AI辨識貓，就需要給它看幾百萬張貓的圖片，以及幾百萬張不是貓的圖片。"
      ],
      "text/plain": [
       "<IPython.core.display.Markdown object>"
      ]
     },
     "metadata": {},
     "output_type": "display_data"
    },
    {
     "data": {
      "text/markdown": [
       "\n",
       "\n",
       "*   **1.2 演算法與模型 (Algorithms & Models)：AI的「大腦」或「學習規則」**\n",
       "    這是AI的核心。演算法是指導AI如何從數據中學習和識別模式的數學"
      ],
      "text/plain": [
       "<IPython.core.display.Markdown object>"
      ]
     },
     "metadata": {},
     "output_type": "display_data"
    },
    {
     "data": {
      "text/markdown": [
       "規則和步驟。模型則是演算法在學習了數據後所形成的內部結構或知識庫。常見的模型有神經網路（特別是深度學習）、決策樹、支持向量機等。\n",
       "    *   **範"
      ],
      "text/plain": [
       "<IPython.core.display.Markdown object>"
      ]
     },
     "metadata": {},
     "output_type": "display_data"
    },
    {
     "data": {
      "text/markdown": [
       "例：** 一個神經網路模型，其內部有無數個「神經元」和「連接」，在學習過程中會調整這些連接的「權重」，來學會辨識貓的特徵。\n",
       "\n",
       "*   **1"
      ],
      "text/plain": [
       "<IPython.core.display.Markdown object>"
      ]
     },
     "metadata": {},
     "output_type": "display_data"
    },
    {
     "data": {
      "text/markdown": [
       ".3 運算能力 (Computational Power)：AI的「動力」**\n",
       "    訓練龐大的AI模型，特別是深度學習模型，需要強大的計算能力。這通常依賴於高性能的圖形處理器（GPU）"
      ],
      "text/plain": [
       "<IPython.core.display.Markdown object>"
      ]
     },
     "metadata": {},
     "output_type": "display_data"
    },
    {
     "data": {
      "text/markdown": [
       "或專門的AI晶片（如TPU），它們能並行處理大量數據。\n",
       "\n",
       "### 2. AI的工作流程（兩大階段）\n",
       "\n",
       "#### 2.1 訓練階段 (Training Phase)：AI的"
      ],
      "text/plain": [
       "<IPython.core.display.Markdown object>"
      ]
     },
     "metadata": {},
     "output_type": "display_data"
    },
    {
     "data": {
      "text/markdown": [
       "「學習過程」\n",
       "\n",
       "1.  **輸入數據 (Input Data)：** 將大量的標籤化（即附帶正確答案）數據輸入給AI模型。\n",
       "    *   **範例：** 輸入一張貓的圖片，同時"
      ],
      "text/plain": [
       "<IPython.core.display.Markdown object>"
      ]
     },
     "metadata": {},
     "output_type": "display_data"
    },
    {
     "data": {
      "text/markdown": [
       "告訴AI「這是一隻貓」。\n",
       "\n",
       "2.  **學習模式 (Learning Patterns)：** 模型會自動分析這些數據，尋找其中的規律、特徵和模式。它會嘗試建立數據輸入（如圖片像素"
      ],
      "text/plain": [
       "<IPython.core.display.Markdown object>"
      ]
     },
     "metadata": {},
     "output_type": "display_data"
    },
    {
     "data": {
      "text/markdown": [
       "）與輸出結果（如「貓」或「狗」）之間的複雜關聯。\n",
       "    *   **範例：** 模型開始學習貓的耳朵形狀、眼睛特徵、毛髮紋理等。\n",
       "\n"
      ],
      "text/plain": [
       "<IPython.core.display.Markdown object>"
      ]
     },
     "metadata": {},
     "output_type": "display_data"
    },
    {
     "data": {
      "text/markdown": [
       "3.  **調整優化 (Adjustment & Optimization)：**\n",
       "    *   AI會根據它的「猜測」與「正確答案」之間的差異（稱為「誤差」或「損失」）來不斷調整自己內部的參數（如"
      ],
      "text/plain": [
       "<IPython.core.display.Markdown object>"
      ]
     },
     "metadata": {},
     "output_type": "display_data"
    },
    {
     "data": {
      "text/markdown": [
       "神經網路中的權重）。\n",
       "    *   這個過程會重複進行數千次、數萬次，直到模型的誤差達到可接受的程度，或者說，模型已經足夠「聰明」，能夠準確地識別"
      ],
      "text/plain": [
       "<IPython.core.display.Markdown object>"
      ]
     },
     "metadata": {},
     "output_type": "display_data"
    },
    {
     "data": {
      "text/markdown": [
       "模式。\n",
       "    *   **範例：** 如果AI把貓辨識成了狗，它會「意識到」錯誤，並微調內部參數，讓下次辨識出貓的機率更高。\n",
       "\n",
       "#### "
      ],
      "text/plain": [
       "<IPython.core.display.Markdown object>"
      ]
     },
     "metadata": {},
     "output_type": "display_data"
    },
    {
     "data": {
      "text/markdown": [
       "2.2 推斷/應用階段 (Inference/Application Phase)：AI的「實戰應用」\n",
       "\n",
       "1.  **輸入新數據 (Input New Data)：** 一旦模型經過訓練並達到滿意的效果，它"
      ],
      "text/plain": [
       "<IPython.core.display.Markdown object>"
      ]
     },
     "metadata": {},
     "output_type": "display_data"
    },
    {
     "data": {
      "text/markdown": [
       "就可以投入實際應用。當有新的、從未見過的數據輸入時。\n",
       "    *   **範例：** 給AI看一張它從未見過的貓的圖片。\n",
       "\n",
       "2.  **輸出結果 (Output Result"
      ],
      "text/plain": [
       "<IPython.core.display.Markdown object>"
      ]
     },
     "metadata": {},
     "output_type": "display_data"
    },
    {
     "data": {
      "text/markdown": [
       ")：** AI模型會利用它在訓練階段學習到的知識和模式，快速地對新數據進行分析、判斷，並給出預測或執行特定任務。\n",
       "    *   **範例：** AI根據"
      ],
      "text/plain": [
       "<IPython.core.display.Markdown object>"
      ]
     },
     "metadata": {},
     "output_type": "display_data"
    },
    {
     "data": {
      "text/markdown": [
       "學習到的貓的特徵，判斷這是一隻「貓」，並輸出這個結果。\n",
       "\n",
       "### 3. 核心原理\n",
       "\n",
       "*   **模式識別 (Pattern Recognition)：** 這是AI最核心的能力。無論是圖像"
      ],
      "text/plain": [
       "<IPython.core.display.Markdown object>"
      ]
     },
     "metadata": {},
     "output_type": "display_data"
    },
    {
     "data": {
      "text/markdown": [
       "辨識、語音辨識還是自然語言處理，AI的本質都是從複雜、海量的數據中找出重複出現的結構、特徵和關聯。\n",
       "*   **預測與決策 (Prediction & Decision Making)："
      ],
      "text/plain": [
       "<IPython.core.display.Markdown object>"
      ]
     },
     "metadata": {},
     "output_type": "display_data"
    },
    {
     "data": {
      "text/markdown": [
       "** 基於識別到的模式，AI能夠對未知事件進行預測（例如股價預測、天氣預報），或為特定情況提供最佳決策（例如自動駕駛中的路徑規劃）。\n",
       "*   **優"
      ],
      "text/plain": [
       "<IPython.core.display.Markdown object>"
      ]
     },
     "metadata": {},
     "output_type": "display_data"
    },
    {
     "data": {
      "text/markdown": [
       "化 (Optimization)：** AI透過不斷最小化其預測與真實結果之間的誤差，來持續提升自身的表現。\n",
       "\n",
       "### 總結\n",
       "\n",
       "簡而言之，AI的工作原理就是透過**「餵食大量數據」**、"
      ],
      "text/plain": [
       "<IPython.core.display.Markdown object>"
      ]
     },
     "metadata": {},
     "output_type": "display_data"
    },
    {
     "data": {
      "text/markdown": [
       "**「運用演算法從中學習規律」**，然後將這些學到的**「規律應用到新的情況中，做出判斷或行動」**。它並不是真正地「思考」或「有意識」，而"
      ],
      "text/plain": [
       "<IPython.core.display.Markdown object>"
      ]
     },
     "metadata": {},
     "output_type": "display_data"
    },
    {
     "data": {
      "text/markdown": [
       "是一種高效且複雜的模式識別與數據處理系統。"
      ],
      "text/plain": [
       "<IPython.core.display.Markdown object>"
      ]
     },
     "metadata": {},
     "output_type": "display_data"
    }
   ],
   "source": [
    "from google import genai\n",
    "from IPython.display import display, Markdown, Latex\n",
    "\n",
    "client = genai.Client()\n",
    "response = client.models.generate_content_stream(\n",
    "    model = \"gemini-2.5-flash\",\n",
    "    contents = [\"AI是如何工作的(請使用繁體中文回答)?\"]\n",
    ")\n",
    "\n",
    "# 串流\n",
    "for chunk in response:\n",
    "    display(Markdown(chunk.text))"
   ]
  }
 ],
 "metadata": {
  "kernelspec": {
   "display_name": "line_bot",
   "language": "python",
   "name": "python3"
  },
  "language_info": {
   "codemirror_mode": {
    "name": "ipython",
    "version": 3
   },
   "file_extension": ".py",
   "mimetype": "text/x-python",
   "name": "python",
   "nbconvert_exporter": "python",
   "pygments_lexer": "ipython3",
   "version": "3.12.11"
  }
 },
 "nbformat": 4,
 "nbformat_minor": 5
}
