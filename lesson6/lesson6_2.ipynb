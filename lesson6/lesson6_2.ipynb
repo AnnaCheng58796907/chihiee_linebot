{
 "cells": [
  {
   "cell_type": "code",
   "execution_count": 1,
   "id": "53dd1a36",
   "metadata": {},
   "outputs": [
    {
     "name": "stdout",
     "output_type": "stream",
     "text": [
      "💬 AI 回應：\n"
     ]
    },
    {
     "data": {
      "text/markdown": [
       "好的，用簡單的方式解釋一下 Python 的函式：\n",
       "\n",
       "**想像一下，Python 是一個預先寫好的工具箱，裡面有很多不同的工具。**\n",
       "\n",
       "* **函式就像這些工具，它們負責執行特定的任務。**\n",
       "\n",
       "**簡單來說，Python 的函式就是用程式碼來完成特定事情的指令。**  就像用工具來做特定的事情一樣。\n",
       "\n",
       "**舉個例子：**\n",
       "\n",
       "* **`print(\"Hello, world!\")`** 函式會顯示 \"Hello, world!\" 在螢幕上。\n",
       "\n",
       "* **`numbers.add(1, 2)`** 函式會把兩個數字加起來，並把結果儲存在一個變數裡。\n",
       "\n",
       "**重點：**\n",
       "\n",
       "* **函式是程式碼的「單元」，**  它們通常會內嵌在程式碼的其他地方，方便使用。\n",
       "* **你可以再多寫一些函式，讓它們重複執行相同的任務。**  就像一個工具多個次數使用一樣。\n",
       "* **Python 有很多預先寫好的函式，**  例如：\n",
       "    * `print()`:  顯示訊息。\n",
       "    * `len()`:  計算某個數字的長度。\n",
       "    * `input()`:  讀取使用者輸入。\n",
       "    * `import`:  從其他程式碼中引入程式碼。\n",
       "\n",
       "**總之，Python 的函式讓你可以在程式中更容易地進行程式碼的「工作」，減少重複寫作，提高效率。**\n",
       "\n",
       "希望這個解釋能幫你理解！"
      ],
      "text/plain": [
       "<IPython.core.display.Markdown object>"
      ]
     },
     "metadata": {},
     "output_type": "display_data"
    },
    {
     "data": {
      "text/plain": [
       "'\\ndef chat_loop():\\n    print(\"歡迎使用本地端 LLM 聊天機器人（輸入 q 離開）\")\\n    while True:\\n        user_input = input(\"👤 你說：\")\\n        if user_input.lower() == \\'q\\':\\n            break\\n        chat_with_ollama(user_input)\\n\\n\\nchat_loop()\\n'"
      ]
     },
     "execution_count": 1,
     "metadata": {},
     "output_type": "execute_result"
    }
   ],
   "source": [
    "\n",
    "import requests\n",
    "from IPython.display import Markdown, display # 呼叫Markdown, display\n",
    "\n",
    "def chat_with_ollama(prompt: str):\n",
    "    url = \"http://localhost:11434/api/generate\"\n",
    "    payload = {\n",
    "        \"model\": \"gemma3:1b\",\n",
    "        \"prompt\": prompt,\n",
    "        \"stream\": False\n",
    "    }\n",
    "\n",
    "    response = requests.post(url, json=payload)\n",
    "    result = response.json()\n",
    "    print(\"💬 AI 回應：\")\n",
    "    display(Markdown(result[\"response\"])) # 將資料內容以Markdown呈現\n",
    "\n",
    "# 範例輸入\n",
    "chat_with_ollama(\"請用簡單的方式解釋什麼是Python的函式？\")\n",
    "'''\n",
    "def chat_loop():\n",
    "    print(\"歡迎使用本地端 LLM 聊天機器人（輸入 q 離開）\")\n",
    "    while True:\n",
    "        user_input = input(\"👤 你說：\")\n",
    "        if user_input.lower() == 'q':\n",
    "            break\n",
    "        chat_with_ollama(user_input)\n",
    "\n",
    "\n",
    "chat_loop()\n",
    "'''"
   ]
  }
 ],
 "metadata": {
  "kernelspec": {
   "display_name": "line_bot",
   "language": "python",
   "name": "python3"
  },
  "language_info": {
   "codemirror_mode": {
    "name": "ipython",
    "version": 3
   },
   "file_extension": ".py",
   "mimetype": "text/x-python",
   "name": "python",
   "nbconvert_exporter": "python",
   "pygments_lexer": "ipython3",
   "version": "3.12.11"
  }
 },
 "nbformat": 4,
 "nbformat_minor": 5
}
