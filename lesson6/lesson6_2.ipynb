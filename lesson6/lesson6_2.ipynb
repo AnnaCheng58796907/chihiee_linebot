{
 "cells": [
  {
   "cell_type": "code",
   "execution_count": null,
   "id": "53dd1a36",
   "metadata": {},
   "outputs": [
    {
     "name": "stdout",
     "output_type": "stream",
     "text": [
      "💬 AI 回應：\n"
     ]
    },
    {
     "data": {
      "text/markdown": [
       "好的，我來用簡單的方式解釋一下 Python 的函式：\n",
       "\n",
       "**想像一下，Python 的函式就像工具箱裡的特殊指令，可以做一些特定的事情。**\n",
       "\n",
       "* **你不是用工具箱，而是用指令。** 每個函式都是一個指令，可以讓你做些事情。\n",
       "* **你可以讓函式做很多事情，比如：**\n",
       "    * **計算：** 比如計算兩個數字的和。\n",
       "    * **處理文字：** 比如把一個話寫成大寫或小寫。\n",
       "    * **排列：** 比如把一個列表中的數字從大到小排列。\n",
       "    * **計算邏輯：** 比如確認一個數字是否是偶數。\n",
       "* **每個函式都有一個名字，讓你可以辨識它。**  例如，`print()` 函式可以顯示文字到螢幕上。\n",
       "\n",
       "**重點：**\n",
       "\n",
       "* **函式是可重複使用的。** 你可以多次使用相同函式的指令，不用重新寫出來。\n",
       "* **函式通常會引導你執行特定步驟。**  你只需要提供函式要做的內容，函式就會幫你完成。\n",
       "\n",
       "**簡單來說：**  Python 的函式是程式碼中的「小片段」，可以執行特定任務，並能讓你自動化一些工作。\n",
       "\n",
       "**舉例：**\n",
       "\n",
       "```python\n",
       "# 這是個函式，叫做 print 函式\n",
       "print(\"Hello, world!\")\n",
       "```\n",
       "\n",
       "這個程式碼會將「Hello, world！」字樣寫在螢幕上。\n",
       "\n",
       "希望這個解釋能幫助你理解 Python 的函式！ \n",
       "\n",
       "如果你有任何其他問題，隨時都可以提出。\n"
      ],
      "text/plain": [
       "<IPython.core.display.Markdown object>"
      ]
     },
     "metadata": {},
     "output_type": "display_data"
    }
   ],
   "source": [
    "\n",
    "import requests\n",
    "from IPython.display import Markdown, display # 呼叫Markdown, display\n",
    "\n",
    "def chat_with_ollama(prompt: str):\n",
    "    url = \"http://localhost:11434/api/generate\"\n",
    "    payload = {\n",
    "        \"model\": \"gemma3:1b\",\n",
    "        \"prompt\": prompt,\n",
    "        \"stream\": False\n",
    "    }\n",
    "\n",
    "    response = requests.post(url, json=payload)\n",
    "    result = response.json()\n",
    "    print(\"💬 AI 回應：\")\n",
    "    display(Markdown(result[\"response\"])) # 將資料內容以Markdown呈現\n",
    "\n",
    "# 範例輸入\n",
    "chat_with_ollama(\"請用簡單的方式解釋什麼是Python的函式？\")"
   ]
  }
 ],
 "metadata": {
  "kernelspec": {
   "display_name": "line_bot",
   "language": "python",
   "name": "python3"
  },
  "language_info": {
   "codemirror_mode": {
    "name": "ipython",
    "version": 3
   },
   "file_extension": ".py",
   "mimetype": "text/x-python",
   "name": "python",
   "nbconvert_exporter": "python",
   "pygments_lexer": "ipython3",
   "version": "3.12.11"
  }
 },
 "nbformat": 4,
 "nbformat_minor": 5
}
