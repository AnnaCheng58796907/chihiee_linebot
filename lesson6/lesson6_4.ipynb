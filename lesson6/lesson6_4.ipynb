{
 "cells": [
  {
   "cell_type": "code",
   "execution_count": null,
   "id": "74cf1063",
   "metadata": {},
   "outputs": [
    {
     "name": "stdout",
     "output_type": "stream",
     "text": [
      "=================AI的回應==============\n"
     ]
    },
    {
     "data": {
      "text/markdown": [
       "好的，我來用簡單的方式解釋 Python 函式：\n",
       "\n",
       "**簡單來說，Python 函式就像一個指令，告訴 Python 執行什麼任務。** \n",
       "\n",
       "**1. 函式是什麼？**\n",
       "\n",
       "*   **函數 (Function):**  一個特定的任務，可以重複執行多次。你可以把它想像成一個小工具。\n",
       "*   **Python 函式是為了讓你解決問題，做一些事情。**\n",
       "\n",
       "**2. 如何使用 Python 函式？**\n",
       "\n",
       "*   **定義函式:** 你用 `def` 關鍵字來定義一個函式。\n",
       "    ```python\n",
       "    def hello_world():\n",
       "        print(\"Hello, world!\")\n",
       "    ```\n",
       "    這個例子定義了一個叫做 `hello_world` 的函式，它會打印 \"Hello, world!\"。\n",
       "*   **呼叫函式:** 你用 `hello_world()` 來運行這個函式。\n",
       "    ```python\n",
       "    hello_world()\n",
       "    ```\n",
       "    這會執行 `hello_world` 函式的內容。\n",
       "\n",
       "**3. 函式有什麼參數？**\n",
       "\n",
       "*   **參數:** 函式接收的輸入。可以把它想像成一個“餌”。\n",
       "    ```python\n",
       "    def add(x, y):\n",
       "        result = x + y\n",
       "        return result\n",
       "    ```\n",
       "    在這裡，`x` 和 `y` 都是參數。  `add` 函式會將 `x` 和 `y` 運算結果加起來，然後返回。\n",
       "\n",
       "**4. 函式有返回值？**\n",
       "\n",
       "*   **返回值:** 函式執行完畢後，它會返回一個結果。\n",
       "    ```python\n",
       "    def divide(x, y):\n",
       "        result = x / y\n",
       "        return result\n",
       "    ```\n",
       "    在這個例子裡，`divide` 函式會將 `x` 除以 `y` 得到結果，然後返回這個結果。\n",
       "\n",
       "**5. 函式使用方法**\n",
       "\n",
       "*   **輸入參數:** 你在函式定義時，會指定參數。\n",
       "*   **執行函式:** 你在函式呼叫時，會提供參數。\n",
       "*   **返回值:** 函式會返回一個結果。\n",
       "*   **結果使用:** 你可以在程式碼中使用這個返回值。\n",
       "\n",
       "**一個簡單例子：**\n",
       "\n",
       "```python\n",
       "def greet(name):\n",
       "    print(\"Hello, \" + name + \"!\")\n",
       "\n",
       "greet(\"Alice\")  # 呼叫函式，將 \"Alice\" 傳入\n",
       "```\n",
       "\n",
       "**解釋:**\n",
       "\n",
       "*   `def greet(name):`  定義了一個叫做 `greet` 的函式，它接收一個參數 `name`。\n",
       "*   `print(\"Hello, \" + name + \"!\")`  在輸出中，打印 \"Hello, \" 和參數 `name` 結合在一起的字符串。\n",
       "\n",
       "**總結：**\n",
       "\n",
       "Python 函式就像是程式碼的小工具，可以讓你做一些事情。 你需要定義函式，並用它來執行任務。 學習函式是 Python 程式設計的基礎，也是學習 Python 程式碼的關鍵。\n",
       "\n",
       "希望這個解釋對你有幫助！ 如果你有其他問題，隨時問我。\n"
      ],
      "text/plain": [
       "<IPython.core.display.Markdown object>"
      ]
     },
     "metadata": {},
     "output_type": "display_data"
    }
   ],
   "source": [
    "import requests\n",
    "# import pprint\n",
    "# from pprint import pprint\n",
    "from IPython.display import Markdown, display # 呼叫Markdown, display\n",
    "\n",
    "def generate_with_ollama(prompt:str)->None:\n",
    "    url = \"http://localhost:11434/api/generate\"\n",
    "    payload = {\n",
    "        \"model\": \"gemma3:1b\",\n",
    "        \"prompt\": prompt,\n",
    "        \"stream\": False\n",
    "    }\n",
    "    \n",
    "    response = requests.post(url, json=payload)\n",
    "    result = response.json()\n",
    "    #print(type(result))\n",
    "    #pprint(result)\n",
    "    print('=================AI的回應==============')\n",
    "    display(Markdown(result[\"response\"])) # 將資料內容以Markdown呈現\n",
    "\n",
    "generate_with_ollama(\"請用簡單的方式說明python函式\")\n"
   ]
  }
 ],
 "metadata": {
  "kernelspec": {
   "display_name": "line_bot",
   "language": "python",
   "name": "python3"
  },
  "language_info": {
   "codemirror_mode": {
    "name": "ipython",
    "version": 3
   },
   "file_extension": ".py",
   "mimetype": "text/x-python",
   "name": "python",
   "nbconvert_exporter": "python",
   "pygments_lexer": "ipython3",
   "version": "3.12.11"
  }
 },
 "nbformat": 4,
 "nbformat_minor": 5
}
