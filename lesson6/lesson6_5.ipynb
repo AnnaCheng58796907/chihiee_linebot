{
 "cells": [
  {
   "cell_type": "code",
   "execution_count": null,
   "id": "588a23dd",
   "metadata": {},
   "outputs": [],
   "source": []
  }
 ],
 "metadata": {
  "kernelspec": {
   "display_name": "line_bot",
   "language": "python",
   "name": "python3"
  },
  "language_info": {
   "name": "python",
   "version": "3.12.11"
  }
 },
 "nbformat": 4,
 "nbformat_minor": 5
}
