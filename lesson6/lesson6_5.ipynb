{
 "cells": [
  {
   "cell_type": "code",
   "execution_count": 1,
   "id": "e8d68c43",
   "metadata": {},
   "outputs": [
    {
     "name": "stdout",
     "output_type": "stream",
     "text": [
      "錯誤: 無法讀取 GEMINI_API_KEY。請確認你已在啟動 Jupyter 前設定。\n"
     ]
    }
   ],
   "source": [
    "import os\n",
    "\n",
    "# 嘗試讀取 GEMINI_API_KEY 環境變數\n",
    "api_key = os.environ.get('GEMINI_API_KEY')\n",
    "\n",
    "# 檢查金鑰是否成功讀取\n",
    "if api_key:\n",
    "    print(\"成功讀取 GEMINI_API_KEY。金鑰長度:\", len(api_key))\n",
    "else:\n",
    "    print(\"錯誤: 無法讀取 GEMINI_API_KEY。請確認你已在啟動 Jupyter 前設定。\")"
   ]
  }
 ],
 "metadata": {
  "kernelspec": {
   "display_name": "line_bot",
   "language": "python",
   "name": "python3"
  },
  "language_info": {
   "codemirror_mode": {
    "name": "ipython",
    "version": 3
   },
   "file_extension": ".py",
   "mimetype": "text/x-python",
   "name": "python",
   "nbconvert_exporter": "python",
   "pygments_lexer": "ipython3",
   "version": "3.12.11"
  }
 },
 "nbformat": 4,
 "nbformat_minor": 5
}
