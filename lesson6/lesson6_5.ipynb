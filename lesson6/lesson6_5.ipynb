{
 "cells": [
  {
   "cell_type": "code",
   "execution_count": 1,
   "id": "a6cdc7f2",
   "metadata": {},
   "outputs": [
    {
     "name": "stdout",
     "output_type": "stream",
     "text": [
      "Note: you may need to restart the kernel to use updated packages.\n"
     ]
    }
   ],
   "source": [
    "pip install -q -U google-generativeai"
   ]
  },
  {
   "cell_type": "code",
   "execution_count": 2,
   "id": "85f11840",
   "metadata": {},
   "outputs": [
    {
     "name": "stdout",
     "output_type": "stream",
     "text": [
      "請將 api_key 變數替換為你的實際金鑰。\n"
     ]
    }
   ],
   "source": [
    "import os\n",
    "import google.generativeai as genai\n",
    "\n",
    "# **重要：請將 'YOUR_API_KEY_HERE' 替換為你的金鑰**\n",
    "# 為了避免在公開筆記本中暴露金鑰，你可以先在VS Code終端機中設定環境變數，\n",
    "# 然後在這裡直接讀取。\n",
    "# 在這個範例中，我們暫時直接設定金鑰，以便快速測試。\n",
    "\n",
    "api_key = 'anna'\n",
    "\n",
    "if api_key == 'anna':\n",
    "    print(\"請將 api_key 變數替換為你的實際金鑰。\")\n",
    "else:\n",
    "    try:\n",
    "        genai.configure(api_key=api_key)\n",
    "\n",
    "        # 測試連線\n",
    "        for m in genai.list_models():\n",
    "            if 'generateContent' in m.supported_generation_methods:\n",
    "                print(f\"成功連線至 Gemini API，模型名稱: {m.name}\")\n",
    "                break\n",
    "        else:\n",
    "            print(\"警告：無法找到支援 generateContent 的模型，可能連線失敗。\")\n",
    "\n",
    "        # 呼叫 API 並取得回應\n",
    "        print(\"正在呼叫 API...\")\n",
    "        model = genai.GenerativeModel('gemini-pro')\n",
    "        response = model.generate_content(\"寫一首關於 VS Code 的詩，並用繁體中文。\")\n",
    "        print(\"\\n--- API 回應成功 ---\")\n",
    "        print(response.text)\n",
    "\n",
    "    except Exception as e:\n",
    "        print(\"\\n--- 發生錯誤 ---\")\n",
    "        print(f\"錯誤類型: {type(e).__name__}\")\n",
    "        print(f\"錯誤訊息: {e}\")"
   ]
  },
  {
   "cell_type": "code",
   "execution_count": 3,
   "id": "11785700",
   "metadata": {},
   "outputs": [
    {
     "name": "stdout",
     "output_type": "stream",
     "text": [
      "天空之所以是藍色的，主要是因為陽光穿過地球大氣層時發生的一種現象，叫做**瑞利散射 (Rayleigh Scattering)**。\n",
      "\n",
      "讓我們一步步來理解：\n",
      "\n",
      "1.  **陽光是什麼？**\n",
      "    我們看到的陽光看似是白色的，但它實際上包含了所有可見光的顏色，就像彩虹一樣（紅、橙、黃、綠、藍、靛、紫）。這些不同顏色的光有不同的波長：紅色光的波長最長，藍色光和紫色光的波長最短。\n",
      "\n",
      "2.  **地球大氣層是什麼？**\n",
      "    地球大氣層由各種氣體分子組成，主要是氮氣（約78%）和氧氣（約21%），還有少量的氬氣、水蒸氣和微塵。這些分子的大小都比可見光的波長要小。\n",
      "\n",
      "3.  **光和分子相遇：散射**\n",
      "    當陽光進入大氣層時，這些光線會撞擊到大氣中的氣體分子和微小粒子。這個碰撞會使光線改變方向，這個過程就叫做「散射」。\n",
      "\n",
      "4.  **為什麼是藍色？**\n",
      "    這就是瑞利散射的關鍵了。瑞利散射的原理是：**波長越短的光，越容易被大氣中的微小粒子散射開來**。\n",
      "    *   藍色光（以及紫色光）的波長較短，當它遇到大氣中的氮氣和氧氣分子時，會被強力地散射到四面八方。\n",
      "    *   紅色光（和橙色、黃色光）的波長較長，它們不容易被這些微小粒子散射，而是傾向於直接穿過大氣層。\n",
      "\n",
      "5.  **我們看到什麼？**\n",
      "    因此，當陽光從頭頂射下時，波長較短的藍光和紫光會被大氣分子大量地散射到我們的眼睛裡，無論我們看向天空的哪個方向，都能看到這些被散射的藍光，所以天空呈現出藍色。\n",
      "\n",
      "6.  **為什麼不是紫色？**\n",
      "    雖然紫光的波長比藍光更短，散射得更厲害，但我們看到的是藍色而不是紫色，主要有兩個原因：\n",
      "    *   陽光中含有的藍光成分比紫光多。\n",
      "    *   人眼對藍光比對紫光更敏感。\n",
      "\n",
      "**總結來說：**\n",
      "天空是藍色的，是因為大氣中的氣體分子對短波長的藍光散射得更厲害，這些被散射的藍光從四面八方進入我們的眼睛，所以我們看到的天空就是藍色的。\n",
      "\n",
      "**延伸思考：日出日落為什麼是紅色？**\n",
      "這也是瑞利散射的另一個證明。當太陽靠近地平線時（日出或日落），陽光需要穿過更厚的大氣層。這時候，幾乎所有的藍光和紫光都被散射掉了，只剩下波長較長、不容易被散射的紅光、橙光和黃光能夠直接到達我們的眼睛，所以天空呈現出紅色、橙色或金黃色。\n"
     ]
    }
   ],
   "source": [
    "from google import genai\n",
    "\n",
    "# The client gets the API key from the environment variable `GEMINI_API_KEY`.\n",
    "client = genai.Client()\n",
    "\n",
    "response = client.models.generate_content(\n",
    "    model=\"gemini-2.5-flash\", contents=\"天空為什麼是藍的?\"\n",
    ")\n",
    "print(response.text)"
   ]
  },
  {
   "cell_type": "code",
   "execution_count": 4,
   "id": "e8d68c43",
   "metadata": {},
   "outputs": [
    {
     "name": "stdout",
     "output_type": "stream",
     "text": [
      "成功讀取 GEMINI_API_KEY。金鑰長度: 39\n"
     ]
    }
   ],
   "source": [
    "import os\n",
    "\n",
    "# 嘗試讀取 GEMINI_API_KEY 環境變數\n",
    "api_key = os.environ.get('GEMINI_API_KEY')\n",
    "\n",
    "# 檢查金鑰是否成功讀取\n",
    "if api_key:\n",
    "    print(\"成功讀取 GEMINI_API_KEY。金鑰長度:\", len(api_key))\n",
    "else:\n",
    "    print(\"錯誤: 無法讀取 GEMINI_API_KEY。請確認你已在啟動 Jupyter 前設定。\")"
   ]
  }
 ],
 "metadata": {
  "kernelspec": {
   "display_name": "line_bot",
   "language": "python",
   "name": "python3"
  },
  "language_info": {
   "codemirror_mode": {
    "name": "ipython",
    "version": 3
   },
   "file_extension": ".py",
   "mimetype": "text/x-python",
   "name": "python",
   "nbconvert_exporter": "python",
   "pygments_lexer": "ipython3",
   "version": "3.12.11"
  }
 },
 "nbformat": 4,
 "nbformat_minor": 5
}
