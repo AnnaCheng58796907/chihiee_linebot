{
 "cells": [
  {
   "cell_type": "markdown",
   "id": "50ab7e2b",
   "metadata": {},
   "source": [
    "### python 儲存資料\n",
    "- 變數\n",
    "- list\n",
    "- dict"
   ]
  },
  {
   "cell_type": "code",
   "execution_count": 1,
   "id": "2de44c7f",
   "metadata": {},
   "outputs": [
    {
     "name": "stdout",
     "output_type": "stream",
     "text": [
      "變數\n",
      "變數內容: Python\n",
      "變數類型: <class 'str'>\n",
      "變數長度: 6\n"
     ]
    }
   ],
   "source": [
    "print(\"變數\")\n",
    "name = \"Python\"\n",
    "print(\"變數內容:\", name)\n",
    "print(\"變數類型:\", type(name))\n",
    "print(\"變數長度:\", len(name))\n"
   ]
  },
  {
   "cell_type": "code",
   "execution_count": 2,
   "id": "fe126bbb",
   "metadata": {},
   "outputs": [
    {
     "name": "stdout",
     "output_type": "stream",
     "text": [
      "1 5.0 Hello True\n"
     ]
    }
   ],
   "source": [
    "print(1, 5.0, \"Hello\", True)"
   ]
  },
  {
   "cell_type": "code",
   "execution_count": 3,
   "id": "e9826e40",
   "metadata": {},
   "outputs": [
    {
     "name": "stdout",
     "output_type": "stream",
     "text": [
      "1 | 5.0 | Hello | True\n"
     ]
    }
   ],
   "source": [
    "print(1,5.0,\"Hello\",True, sep=\" | \")"
   ]
  },
  {
   "cell_type": "code",
   "execution_count": 4,
   "id": "d73439ff",
   "metadata": {},
   "outputs": [
    {
     "name": "stdout",
     "output_type": "stream",
     "text": [
      "1 | 5.0 | Hello | True。\n"
     ]
    }
   ],
   "source": [
    "print(1,5.0,\"Hello\",True, sep=\" | \", end=\"。\\n\")"
   ]
  }
 ],
 "metadata": {
  "kernelspec": {
   "display_name": "line_bot",
   "language": "python",
   "name": "python3"
  },
  "language_info": {
   "codemirror_mode": {
    "name": "ipython",
    "version": 3
   },
   "file_extension": ".py",
   "mimetype": "text/x-python",
   "name": "python",
   "nbconvert_exporter": "python",
   "pygments_lexer": "ipython3",
   "version": "3.12.11"
  }
 },
 "nbformat": 4,
 "nbformat_minor": 5
}
