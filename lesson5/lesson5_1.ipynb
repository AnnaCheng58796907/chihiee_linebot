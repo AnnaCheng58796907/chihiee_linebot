{
 "cells": [
  {
   "cell_type": "code",
   "execution_count": 2,
   "id": "9bef6f3e",
   "metadata": {},
   "outputs": [
    {
     "name": "stdout",
     "output_type": "stream",
     "text": [
      "💬 AI 回應：\n",
      "{'model': 'gemma3:1b', 'created_at': '2025-07-26T03:47:14.42549476Z', 'response': '{\\n\"解釋：\":\"Python的函式就像是小程式，它們會做特定的事情，可以重複執行，就像是程式中的小命令。你可以把它想像成一個程式的指令，它會自動執行一個步驟，並會產生結果。\"\\n}', 'done': True, 'done_reason': 'stop', 'context': [105, 2364, 107, 239230, 237105, 74624, 48280, 185411, 26549, 237026, 32651, 236918, 238780, 237522, 237536, 106, 107, 105, 4368, 107, 236782, 107, 236775, 185411, 237184, 12375, 32651, 236918, 238780, 237522, 55326, 237026, 237369, 47972, 236900, 162576, 238003, 237893, 172612, 25606, 236900, 5157, 174322, 78204, 236900, 55326, 237026, 47972, 12870, 237369, 30031, 236924, 71407, 91033, 103146, 237283, 19966, 47972, 236918, 81582, 236900, 238010, 238003, 39972, 78204, 19966, 167951, 236900, 238953, 238003, 125716, 27654, 165220, 107, 236783], 'total_duration': 21676846816, 'load_duration': 11483875449, 'prompt_eval_count': 21, 'prompt_eval_duration': 1830389045, 'eval_count': 58, 'eval_duration': 7956504726}\n",
      "{\n",
      "\"解釋：\":\"Python的函式就像是小程式，它們會做特定的事情，可以重複執行，就像是程式中的小命令。你可以把它想像成一個程式的指令，它會自動執行一個步驟，並會產生結果。\"\n",
      "}\n"
     ]
    }
   ],
   "source": [
    "import requests\n",
    "\n",
    "def chat_with_ollama(prompt: str):\n",
    "    url = \"http://localhost:11434/api/generate\"\n",
    "    payload = {\n",
    "        \"model\": \"gemma3:1b\",\n",
    "        \"prompt\": prompt,\n",
    "        \"stream\": False,\n",
    "        \"options\": { #參考說明1\n",
    "            \"temperature\": 0.7,\n",
    "            \"top_p\": 0.9,\n",
    "            \"top_k\": 50,\n",
    "        },\n",
    "        \"max_tokens\": 100,\n",
    "        \"format\": \"json\",\n",
    "    }\n",
    "\n",
    "    response = requests.post(url, json=payload)\n",
    "    result = response.json()\n",
    "    print(\"💬 AI 回應：\")\n",
    "    # Print the whole result for debugging\n",
    "    print(result)\n",
    "    # Try to print the 'response' key if it exists, otherwise print possible keys\n",
    "    if \"response\" in result:\n",
    "        print(result[\"response\"])\n",
    "    elif \"message\" in result:\n",
    "        print(result[\"message\"])\n",
    "    elif \"content\" in result:\n",
    "        print(result[\"content\"])\n",
    "    else:\n",
    "        print(\"No expected key found in response. Available keys:\", result.keys())\n",
    "\n",
    "#範例輸入\n",
    "chat_with_ollama(\"請用簡單的方式解釋什麼是Python的函式？\")"
   ]
  },
  {
   "cell_type": "code",
   "execution_count": 1,
   "id": "25ad75db",
   "metadata": {},
   "outputs": [
    {
     "name": "stdout",
     "output_type": "stream",
     "text": [
      "💬 AI 回應：\n",
      "{'model': 'gemma3:1b', 'created_at': '2025-07-26T04:05:19.636786888Z', 'response': '{ \\n    \"我是Google DeepMind的訓練者，一個大型語言模型。我是一個開放權重的模型，由Google DeepMind開發。\":\\n\\n \\n    \"我是一個AI助手，可以協助你完成各種任務，例如：回答問題、寫作、翻譯、寫程式等等。我會盡力提供準確、有用的資訊，但我的知識可能有限。\" \\n \\n  \\n    \\n    \\n    \\n    \\n    \\n    \\n    \\n    \\n    \\n    \\n    \\n    \\n    ', 'done': False}\n",
      "{ \n",
      "    \"我是Google DeepMind的訓練者，一個大型語言模型。我是一個開放權重的模型，由Google DeepMind開發。\":\n",
      "\n",
      " \n",
      "    \"我是一個AI助手，可以協助你完成各種任務，例如：回答問題、寫作、翻譯、寫程式等等。我會盡力提供準確、有用的資訊，但我的知識可能有限。\" \n",
      " \n",
      "  \n",
      "    \n",
      "    \n",
      "    \n",
      "    \n",
      "    \n",
      "    \n",
      "    \n",
      "    \n",
      "    \n",
      "    \n",
      "    \n",
      "    \n",
      "    \n"
     ]
    }
   ],
   "source": [
    "import requests\n",
    "\n",
    "def chat_with_ollama(prompt: str):\n",
    "    url = \"http://localhost:11434/api/generate\"\n",
    "    payload = {\n",
    "        \"model\": \"gemma3:1b\",\n",
    "        \"prompt\": prompt,\n",
    "        \"stream\": False,\n",
    "        \"options\": { #參考說明1\n",
    "            \"temperature\": 0.7,\n",
    "            \"top_p\": 0.9,\n",
    "            \"top_k\": 50,\n",
    "        },\n",
    "        \"max_tokens\": 100,\n",
    "        \"format\": \"json\",\n",
    "    }\n",
    "\n",
    "    response = requests.post(url, json=payload)\n",
    "    result = response.json()\n",
    "    print(\"💬 AI 回應：\")\n",
    "    # Print the whole result for debugging\n",
    "    print(result)\n",
    "    # Try to print the 'response' key if it exists, otherwise print possible keys\n",
    "    if \"response\" in result:\n",
    "        print(result[\"response\"])\n",
    "    elif \"message\" in result:\n",
    "        print(result[\"message\"])\n",
    "    elif \"content\" in result:\n",
    "        print(result[\"content\"])\n",
    "    else:\n",
    "        print(\"No expected key found in response. Available keys:\", result.keys())\n",
    "\n",
    "#範例輸入\n",
    "chat_with_ollama(\"請問你是誰\")"
   ]
  }
 ],
 "metadata": {
  "kernelspec": {
   "display_name": "line_bot",
   "language": "python",
   "name": "python3"
  },
  "language_info": {
   "codemirror_mode": {
    "name": "ipython",
    "version": 3
   },
   "file_extension": ".py",
   "mimetype": "text/x-python",
   "name": "python",
   "nbconvert_exporter": "python",
   "pygments_lexer": "ipython3",
   "version": "3.12.11"
  }
 },
 "nbformat": 4,
 "nbformat_minor": 5
}
