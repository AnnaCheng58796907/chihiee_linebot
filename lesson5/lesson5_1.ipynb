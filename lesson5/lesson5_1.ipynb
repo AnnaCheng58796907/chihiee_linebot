{
 "cells": [
  {
   "cell_type": "markdown",
   "id": "bbc0511a",
   "metadata": {},
   "source": [
    "** 說明1:\n",
    "*** options 物件封裝了對於生成模型行為的三個關鍵調整參數：temperature、top_p 以及 top_k。透過這些設定，我們可以更精細地控制模型在產生文字時的隨機程度與多樣性，以達到更符合需求的輸出風格。\n",
    "\n",
    "*** temperature（溫度）參數設定為 0.7，表示在挑選下一個字元或詞彙時，會根據模型預測機率分佈做溫度縮放。溫度越接近 1，生成結果越隨機、多樣；當溫度降低時，生成更傾向於高機率選擇，輸出結果較為保守且重複性增加。設定為 0.7 能在隨機性與穩定性間取得平衡。\n",
    "\n",
    "*** top_p（又稱 nucleus sampling）設為 0.9，代表每次生成時僅考慮累積機率前 90% 的候選詞彙。換言之，模型先將所有候選依機率由高到低排序，然後從機率總和達到 0.9 的詞彙子集中進行隨機抽樣。這種方法可避免只關注最高機率而忽略其他合理選項，也能自動調整抽樣範圍以抑制極低機率的「噪音」輸出。\n",
    "\n",
    "**** top_k 參數設置為 50，表示在抽樣時僅從預測機率最高的前 50 個詞彙中選擇下一步結果。這是在限制搜索空間大小、提高運算效率與品質控制的常見做法。結合 top_p 與 top_k 使用，能進一步平衡多樣性與穩定性：top_k 確保候選集不超過一定規模，top_p 則依實際機率分佈動態修剪集內詞彙。\n",
    "\n",
    "綜合而言，這三項參數共同為生成模型提供了多層次的隨機與篩選機制。依據不同應用場景（如對話系統、文章撰寫或程式碼生成），可微調這些值以獲得更符合需求的結果。"
   ]
  },
  {
   "cell_type": "code",
   "execution_count": null,
   "id": "9bef6f3e",
   "metadata": {},
   "outputs": [
    {
     "name": "stdout",
     "output_type": "stream",
     "text": [
      "💬 AI 回應：\n",
      "{'model': 'gemma3:1b', 'created_at': '2025-07-26T03:47:14.42549476Z', 'response': '{\\n\"解釋：\":\"Python的函式就像是小程式，它們會做特定的事情，可以重複執行，就像是程式中的小命令。你可以把它想像成一個程式的指令，它會自動執行一個步驟，並會產生結果。\"\\n}', 'done': True, 'done_reason': 'stop', 'context': [105, 2364, 107, 239230, 237105, 74624, 48280, 185411, 26549, 237026, 32651, 236918, 238780, 237522, 237536, 106, 107, 105, 4368, 107, 236782, 107, 236775, 185411, 237184, 12375, 32651, 236918, 238780, 237522, 55326, 237026, 237369, 47972, 236900, 162576, 238003, 237893, 172612, 25606, 236900, 5157, 174322, 78204, 236900, 55326, 237026, 47972, 12870, 237369, 30031, 236924, 71407, 91033, 103146, 237283, 19966, 47972, 236918, 81582, 236900, 238010, 238003, 39972, 78204, 19966, 167951, 236900, 238953, 238003, 125716, 27654, 165220, 107, 236783], 'total_duration': 21676846816, 'load_duration': 11483875449, 'prompt_eval_count': 21, 'prompt_eval_duration': 1830389045, 'eval_count': 58, 'eval_duration': 7956504726}\n",
      "{\n",
      "\"解釋：\":\"Python的函式就像是小程式，它們會做特定的事情，可以重複執行，就像是程式中的小命令。你可以把它想像成一個程式的指令，它會自動執行一個步驟，並會產生結果。\"\n",
      "}\n"
     ]
    }
   ],
   "source": [
    "import requests\n",
    "\n",
    "def chat_with_ollama(prompt: str):\n",
    "    url = \"http://localhost:11434/api/generate\"\n",
    "    payload = {\n",
    "        \"model\": \"gemma3:1b\",\n",
    "        \"prompt\": prompt,\n",
    "        \"stream\": False,\n",
    "        \"options\": { #參考說明1\n",
    "            \"temperature\": 0.7,\n",
    "            \"top_p\": 0.9,\n",
    "            \"top_k\": 50,\n",
    "        },\n",
    "        \"max_tokens\": 100,\n",
    "        \"format\": \"json\",\n",
    "    }\n",
    "\n",
    "\n",
    "    response = requests.post(url, json=payload)\n",
    "    result = response.json()\n",
    "    print(\"💬 AI 回應：\")\n",
    "    # Print the whole result for debugging\n",
    "    print(result)\n",
    "    # Try to print the 'response' key if it exists, otherwise print possible keys\n",
    "    if \"response\" in result:\n",
    "        print(result[\"response\"])\n",
    "    elif \"message\" in result:\n",
    "        print(result[\"message\"])\n",
    "    elif \"content\" in result:\n",
    "        print(result[\"content\"])\n",
    "    else:\n",
    "        print(\"No expected key found in response. Available keys:\", result.keys())\n",
    "\n",
    "#範例輸入\n",
    "chat_with_ollama(\"請用簡單的方式解釋什麼是Python的函式？\")"
   ]
  },
  {
   "cell_type": "code",
   "execution_count": 1,
   "id": "25ad75db",
   "metadata": {},
   "outputs": [
    {
     "name": "stdout",
     "output_type": "stream",
     "text": [
      "💬 AI 回應：\n",
      "{'model': 'gemma3:1b', 'created_at': '2025-07-26T04:05:19.636786888Z', 'response': '{ \\n    \"我是Google DeepMind的訓練者，一個大型語言模型。我是一個開放權重的模型，由Google DeepMind開發。\":\\n\\n \\n    \"我是一個AI助手，可以協助你完成各種任務，例如：回答問題、寫作、翻譯、寫程式等等。我會盡力提供準確、有用的資訊，但我的知識可能有限。\" \\n \\n  \\n    \\n    \\n    \\n    \\n    \\n    \\n    \\n    \\n    \\n    \\n    \\n    \\n    ', 'done': False}\n",
      "{ \n",
      "    \"我是Google DeepMind的訓練者，一個大型語言模型。我是一個開放權重的模型，由Google DeepMind開發。\":\n",
      "\n",
      " \n",
      "    \"我是一個AI助手，可以協助你完成各種任務，例如：回答問題、寫作、翻譯、寫程式等等。我會盡力提供準確、有用的資訊，但我的知識可能有限。\" \n",
      " \n",
      "  \n",
      "    \n",
      "    \n",
      "    \n",
      "    \n",
      "    \n",
      "    \n",
      "    \n",
      "    \n",
      "    \n",
      "    \n",
      "    \n",
      "    \n",
      "    \n"
     ]
    }
   ],
   "source": [
    "import requests\n",
    "\n",
    "def chat_with_ollama(prompt: str):\n",
    "    url = \"http://localhost:11434/api/generate\"\n",
    "    payload = {\n",
    "        \"model\": \"gemma3:1b\",\n",
    "        \"prompt\": prompt,\n",
    "        \"stream\": False,\n",
    "        \"options\": { #參考說明1\n",
    "            \"temperature\": 0.7,\n",
    "            \"top_p\": 0.9,\n",
    "            \"top_k\": 50,\n",
    "        },\n",
    "        \"max_tokens\": 100,\n",
    "        \"format\": \"json\",\n",
    "    }\n",
    "\n",
    "    response = requests.post(url, json=payload)\n",
    "    result = response.json()\n",
    "    print(\"💬 AI 回應：\")\n",
    "    # Print the whole result for debugging\n",
    "    print(result)\n",
    "    # Try to print the 'response' key if it exists, otherwise print possible keys\n",
    "    if \"response\" in result:\n",
    "        print(result[\"response\"])\n",
    "    elif \"message\" in result:\n",
    "        print(result[\"message\"])\n",
    "    elif \"content\" in result:\n",
    "        print(result[\"content\"])\n",
    "    else:\n",
    "        print(\"No expected key found in response. Available keys:\", result.keys())\n",
    "\n",
    "#範例輸入\n",
    "chat_with_ollama(\"請問你是誰\")"
   ]
  },
  {
   "cell_type": "code",
   "execution_count": 14,
   "id": "a05484a2",
   "metadata": {},
   "outputs": [
    {
     "name": "stdout",
     "output_type": "stream",
     "text": [
      "下載成功\n",
      "<!doctype html>\n",
      "<html>\n",
      "<head>\n",
      "    <title>Example Domain</title>\n",
      "\n",
      "    <meta charset=\"utf-8\" />\n",
      "    <meta http-equiv=\"Content-type\" content=\"text/html; charset=utf-8\" />\n",
      "    <meta name=\"viewport\" content=\"width=device-width, initial-scale=1\" />\n",
      "    <style type=\"text/css\">\n",
      "    body {\n",
      "        background-color: #f0f0f2;\n",
      "        margin: 0;\n",
      "        padding: 0;\n",
      "        font-family: -apple-system, system-ui, BlinkMacSystemFont, \"Segoe UI\", \"Open Sans\", \"Helvetica Neue\", Helvetica, Arial, sans-serif;\n",
      "        \n",
      "    }\n",
      "    div {\n",
      "        width: 600px;\n",
      "        margin: 5em auto;\n",
      "        padding: 2em;\n",
      "        background-color: #fdfdff;\n",
      "        border-radius: 0.5em;\n",
      "        box-shadow: 2px 3px 7px 2px rgba(0,0,0,0.02);\n",
      "    }\n",
      "    a:link, a:visited {\n",
      "        color: #38488f;\n",
      "        text-decoration: none;\n",
      "    }\n",
      "    @media (max-width: 700px) {\n",
      "        div {\n",
      "            margin: 0 auto;\n",
      "            width: auto;\n",
      "        }\n",
      "    }\n",
      "    </style>    \n",
      "</head>\n",
      "\n",
      "<body>\n",
      "<div>\n",
      "    <h1>Example Domain</h1>\n",
      "    <p>This domain is for use in illustrative examples in documents. You may use this\n",
      "    domain in literature without prior coordination or asking for permission.</p>\n",
      "    <p><a href=\"https://www.iana.org/domains/example\">More information...</a></p>\n",
      "</div>\n",
      "</body>\n",
      "</html>\n",
      "\n"
     ]
    }
   ],
   "source": [
    "import requests\n",
    "\n",
    "url = \"https://www.example.com/\"\n",
    "response = requests.get(url) #引數值的呼叫\n",
    "#requests.get(url=url) #引數名稱的呼叫\n",
    "\n",
    "if response.status_code == 200:\n",
    "    print(\"下載成功\")\n",
    "    print(response.text)\n"
   ]
  },
  {
   "cell_type": "code",
   "execution_count": 28,
   "id": "9903f0ec",
   "metadata": {},
   "outputs": [
    {
     "name": "stdout",
     "output_type": "stream",
     "text": [
      "連線成功\n"
     ]
    },
    {
     "data": {
      "text/markdown": [
       "天空之所以是藍的，主要是因為一種叫做**瑞利散射 (Rayleigh scattering)** 的現象。以下是更詳細的解釋：\n",
       "\n",
       "**1. 太陽光有全彩虹:**\n",
       "\n",
       "太陽光看起來是白色的，但實際上是由紅、黃、綠等不同顏色的光組成。\n",
       "\n",
       "**2. 瑞利散射的原理:**\n",
       "\n",
       "*   太陽光進入地球大氣層時，會遇到空氣中的微小分子，主要都是氮氣和氧氣。\n",
       "*   瑞利散射是一種光波向側的散射現象，即光波在遇到這些微小分子時，會發生一些改變，讓光波的波長被“拉長”。\n",
       "*   **波長越短的顏色更容易被散射。** 藍色和紫色的光的波長比較短，所以更容易被散射到四面八方。\n",
       "\n",
       "**3. 藍色光進入我們的眼睛:**\n",
       "\n",
       "由於藍色光比其他顏色更容易被散射，因此我們看到的天空時，會看到天空是藍色的。\n",
       "\n",
       "**其他因素影響天空的顏色:**\n",
       "\n",
       "*   **日出和日落時:** 太陽光需要穿過更厚的大氣層，藍光被散射得更多，剩下的紅、橙色和黃色光更顯眼。\n",
       "*   **空氣汙染:** 空氣中的灰塵、煙霧等會增加散射，使得天空顏色變得更紅或更深。\n",
       "*   **時間:** 太陽活動會影響天空的顏色，例如在夜晚，太陽光反射在地平線上，所以天空會變成黑色。\n",
       "\n",
       "**簡單來說，就是太陽光遇到空氣分子，藍光被散射得更多，所以我們看到的天空是藍色的。**\n",
       "\n",
       "希望這個解釋對你有幫助！\n"
      ],
      "text/plain": [
       "<IPython.core.display.Markdown object>"
      ]
     },
     "metadata": {},
     "output_type": "display_data"
    }
   ],
   "source": [
    "import requests\n",
    "from IPython.display import Markdown, display\n",
    "\n",
    "url = 'http://localhost:11434/api/generate'\n",
    "response = requests.post(url, json={\n",
    "    \"model\": \"gemma3:1b\",\n",
    "    \"prompt\":\"天空為什麼是藍的?\",\n",
    "    \"stream\": False\n",
    "})\n",
    "if response.status_code == 200:\n",
    "    print(\"連線成功\")\n",
    "    result = response.json()\n",
    "    display(Markdown(result['response']))\n",
    "\n",
    "else:\n",
    "    print(\"連線失敗\")\n",
    "    print(\"原因\",response.status_code)"
   ]
  },
  {
   "cell_type": "code",
   "execution_count": 25,
   "id": "3dc1ebd6",
   "metadata": {},
   "outputs": [
    {
     "name": "stdout",
     "output_type": "stream",
     "text": [
      "tw\n",
      "jp\n",
      "hk\n",
      "Taiwan\n",
      "Japan\n",
      "Hong kong\n",
      "Taiwan tw\n",
      "Japan jp\n",
      "Hong kong hk\n"
     ]
    }
   ],
   "source": [
    "codes = {\n",
    "    \"tw\":\"Taiwan\",\n",
    "    \"jp\":\"Japan\",\n",
    "    \"hk\":\"Hong kong\"\n",
    "}\n",
    "codes[\"tw\"]\n",
    "codes[\"jp\"]\n",
    "codes[\"hk\"]\n",
    "codes.keys()\n",
    "for key in codes.keys():\n",
    "    print(key)\n",
    "\n",
    "for value in codes.values():\n",
    "    print(value)\n",
    "\n",
    "for (code, name) in codes.items():\n",
    "    print(name, code)"
   ]
  }
 ],
 "metadata": {
  "kernelspec": {
   "display_name": "line_bot",
   "language": "python",
   "name": "python3"
  },
  "language_info": {
   "codemirror_mode": {
    "name": "ipython",
    "version": 3
   },
   "file_extension": ".py",
   "mimetype": "text/x-python",
   "name": "python",
   "nbconvert_exporter": "python",
   "pygments_lexer": "ipython3",
   "version": "3.12.11"
  }
 },
 "nbformat": 4,
 "nbformat_minor": 5
}
