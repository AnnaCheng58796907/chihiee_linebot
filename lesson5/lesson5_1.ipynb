{
 "cells": [
  {
   "cell_type": "code",
   "execution_count": 2,
   "id": "9bef6f3e",
   "metadata": {},
   "outputs": [
    {
     "name": "stdout",
     "output_type": "stream",
     "text": [
      "💬 AI 回應：\n",
      "{'model': 'gemma3:1b', 'created_at': '2025-07-26T03:47:14.42549476Z', 'response': '{\\n\"解釋：\":\"Python的函式就像是小程式，它們會做特定的事情，可以重複執行，就像是程式中的小命令。你可以把它想像成一個程式的指令，它會自動執行一個步驟，並會產生結果。\"\\n}', 'done': True, 'done_reason': 'stop', 'context': [105, 2364, 107, 239230, 237105, 74624, 48280, 185411, 26549, 237026, 32651, 236918, 238780, 237522, 237536, 106, 107, 105, 4368, 107, 236782, 107, 236775, 185411, 237184, 12375, 32651, 236918, 238780, 237522, 55326, 237026, 237369, 47972, 236900, 162576, 238003, 237893, 172612, 25606, 236900, 5157, 174322, 78204, 236900, 55326, 237026, 47972, 12870, 237369, 30031, 236924, 71407, 91033, 103146, 237283, 19966, 47972, 236918, 81582, 236900, 238010, 238003, 39972, 78204, 19966, 167951, 236900, 238953, 238003, 125716, 27654, 165220, 107, 236783], 'total_duration': 21676846816, 'load_duration': 11483875449, 'prompt_eval_count': 21, 'prompt_eval_duration': 1830389045, 'eval_count': 58, 'eval_duration': 7956504726}\n",
      "{\n",
      "\"解釋：\":\"Python的函式就像是小程式，它們會做特定的事情，可以重複執行，就像是程式中的小命令。你可以把它想像成一個程式的指令，它會自動執行一個步驟，並會產生結果。\"\n",
      "}\n"
     ]
    }
   ],
   "source": [
    "import requests\n",
    "\n",
    "def chat_with_ollama(prompt: str):\n",
    "    url = \"http://localhost:11434/api/generate\"\n",
    "    payload = {\n",
    "        \"model\": \"gemma3:1b\",\n",
    "        \"prompt\": prompt,\n",
    "        \"stream\": False,\n",
    "        \"options\": { #參考說明1\n",
    "            \"temperature\": 0.7,\n",
    "            \"top_p\": 0.9,\n",
    "            \"top_k\": 50,\n",
    "        },\n",
    "        \"max_tokens\": 100,\n",
    "        \"format\": \"json\",\n",
    "    }\n",
    "\n",
    "    response = requests.post(url, json=payload)\n",
    "    result = response.json()\n",
    "    print(\"💬 AI 回應：\")\n",
    "    # Print the whole result for debugging\n",
    "    print(result)\n",
    "    # Try to print the 'response' key if it exists, otherwise print possible keys\n",
    "    if \"response\" in result:\n",
    "        print(result[\"response\"])\n",
    "    elif \"message\" in result:\n",
    "        print(result[\"message\"])\n",
    "    elif \"content\" in result:\n",
    "        print(result[\"content\"])\n",
    "    else:\n",
    "        print(\"No expected key found in response. Available keys:\", result.keys())\n",
    "\n",
    "#範例輸入\n",
    "chat_with_ollama(\"請用簡單的方式解釋什麼是Python的函式？\")"
   ]
  },
  {
   "cell_type": "code",
   "execution_count": 1,
   "id": "25ad75db",
   "metadata": {},
   "outputs": [
    {
     "name": "stdout",
     "output_type": "stream",
     "text": [
      "💬 AI 回應：\n",
      "{'model': 'gemma3:1b', 'created_at': '2025-07-26T04:05:19.636786888Z', 'response': '{ \\n    \"我是Google DeepMind的訓練者，一個大型語言模型。我是一個開放權重的模型，由Google DeepMind開發。\":\\n\\n \\n    \"我是一個AI助手，可以協助你完成各種任務，例如：回答問題、寫作、翻譯、寫程式等等。我會盡力提供準確、有用的資訊，但我的知識可能有限。\" \\n \\n  \\n    \\n    \\n    \\n    \\n    \\n    \\n    \\n    \\n    \\n    \\n    \\n    \\n    ', 'done': False}\n",
      "{ \n",
      "    \"我是Google DeepMind的訓練者，一個大型語言模型。我是一個開放權重的模型，由Google DeepMind開發。\":\n",
      "\n",
      " \n",
      "    \"我是一個AI助手，可以協助你完成各種任務，例如：回答問題、寫作、翻譯、寫程式等等。我會盡力提供準確、有用的資訊，但我的知識可能有限。\" \n",
      " \n",
      "  \n",
      "    \n",
      "    \n",
      "    \n",
      "    \n",
      "    \n",
      "    \n",
      "    \n",
      "    \n",
      "    \n",
      "    \n",
      "    \n",
      "    \n",
      "    \n"
     ]
    }
   ],
   "source": [
    "import requests\n",
    "\n",
    "def chat_with_ollama(prompt: str):\n",
    "    url = \"http://localhost:11434/api/generate\"\n",
    "    payload = {\n",
    "        \"model\": \"gemma3:1b\",\n",
    "        \"prompt\": prompt,\n",
    "        \"stream\": False,\n",
    "        \"options\": { #參考說明1\n",
    "            \"temperature\": 0.7,\n",
    "            \"top_p\": 0.9,\n",
    "            \"top_k\": 50,\n",
    "        },\n",
    "        \"max_tokens\": 100,\n",
    "        \"format\": \"json\",\n",
    "    }\n",
    "\n",
    "    response = requests.post(url, json=payload)\n",
    "    result = response.json()\n",
    "    print(\"💬 AI 回應：\")\n",
    "    # Print the whole result for debugging\n",
    "    print(result)\n",
    "    # Try to print the 'response' key if it exists, otherwise print possible keys\n",
    "    if \"response\" in result:\n",
    "        print(result[\"response\"])\n",
    "    elif \"message\" in result:\n",
    "        print(result[\"message\"])\n",
    "    elif \"content\" in result:\n",
    "        print(result[\"content\"])\n",
    "    else:\n",
    "        print(\"No expected key found in response. Available keys:\", result.keys())\n",
    "\n",
    "#範例輸入\n",
    "chat_with_ollama(\"請問你是誰\")"
   ]
  },
  {
   "cell_type": "code",
   "execution_count": 14,
   "id": "a05484a2",
   "metadata": {},
   "outputs": [
    {
     "name": "stdout",
     "output_type": "stream",
     "text": [
      "下載成功\n",
      "<!doctype html>\n",
      "<html>\n",
      "<head>\n",
      "    <title>Example Domain</title>\n",
      "\n",
      "    <meta charset=\"utf-8\" />\n",
      "    <meta http-equiv=\"Content-type\" content=\"text/html; charset=utf-8\" />\n",
      "    <meta name=\"viewport\" content=\"width=device-width, initial-scale=1\" />\n",
      "    <style type=\"text/css\">\n",
      "    body {\n",
      "        background-color: #f0f0f2;\n",
      "        margin: 0;\n",
      "        padding: 0;\n",
      "        font-family: -apple-system, system-ui, BlinkMacSystemFont, \"Segoe UI\", \"Open Sans\", \"Helvetica Neue\", Helvetica, Arial, sans-serif;\n",
      "        \n",
      "    }\n",
      "    div {\n",
      "        width: 600px;\n",
      "        margin: 5em auto;\n",
      "        padding: 2em;\n",
      "        background-color: #fdfdff;\n",
      "        border-radius: 0.5em;\n",
      "        box-shadow: 2px 3px 7px 2px rgba(0,0,0,0.02);\n",
      "    }\n",
      "    a:link, a:visited {\n",
      "        color: #38488f;\n",
      "        text-decoration: none;\n",
      "    }\n",
      "    @media (max-width: 700px) {\n",
      "        div {\n",
      "            margin: 0 auto;\n",
      "            width: auto;\n",
      "        }\n",
      "    }\n",
      "    </style>    \n",
      "</head>\n",
      "\n",
      "<body>\n",
      "<div>\n",
      "    <h1>Example Domain</h1>\n",
      "    <p>This domain is for use in illustrative examples in documents. You may use this\n",
      "    domain in literature without prior coordination or asking for permission.</p>\n",
      "    <p><a href=\"https://www.iana.org/domains/example\">More information...</a></p>\n",
      "</div>\n",
      "</body>\n",
      "</html>\n",
      "\n"
     ]
    }
   ],
   "source": [
    "import requests\n",
    "\n",
    "url = \"https://www.example.com/\"\n",
    "response = requests.get(url) #引數值的呼叫\n",
    "#requests.get(url=url) #引數名稱的呼叫\n",
    "\n",
    "if response.status_code == 200:\n",
    "    print(\"下載成功\")\n",
    "    print(response.text)\n"
   ]
  },
  {
   "cell_type": "code",
   "execution_count": 18,
   "id": "9903f0ec",
   "metadata": {},
   "outputs": [
    {
     "name": "stdout",
     "output_type": "stream",
     "text": [
      "連線成功\n",
      "{'model': 'gemma3:1b', 'created_at': '2025-07-26T06:59:42.225782639Z', 'response': '天空之所以是藍的，主要是因為一種叫做**瑞利散射（Rayleigh scattering）**現象。簡單來說，太陽光穿過大氣層時，會遇到空氣中的微小分子，比如氮氣和氧氣。這種微小分子會散射光線，散射的強度與光的波長成正比。\\n\\n**以下是更詳細的解釋：**\\n\\n* **光的波長：** 光的顏色是由光波長決定的。短波長（如藍色和綠色）更容易被散射，而長波長（如紅色和黃色）不容易被散射。\\n* **瑞利散射的原理：** 瑞利散射是指短波長光更容易被空氣中的微小分子散射，散射的強度與波長成正比。\\n* **太陽光的波長：** 太陽光本身具有藍色和綠色的光，但由於太陽光照射到地球表面，它主要呈現藍色和綠色。\\n* **為什麼我們看到藍色：**  由於藍色光被散射到空氣中的所有方向，因此我們從天空看來，看到的是更廣泛的藍色光，所以天空看起來是藍色的。\\n\\n**別看天空是藍色的，其實是天空中的大部分光線都被散射了，只有少量的藍色光才真正到達我們的眼睛。**\\n\\n**其他顏色？**\\n\\n* **紅色和黃色：**  太陽光中的黃色和紅色光被散射的程度較少，所以它們更容易穿透雲層，所以天空呈現紅色和黃色。\\n* **日落時天空的顏色：** 在日落時，太陽光需要穿過更厚的大氣層，藍色光被散射得更多，剩下紅光和黃光，所以我們看到的日落天空是紅色的。\\n\\n希望這個解釋能夠讓你明白天空為什麼是藍色的！\\n', 'done': True, 'done_reason': 'stop', 'context': [105, 2364, 107, 141370, 95202, 237026, 241339, 236918, 236881, 106, 107, 105, 4368, 107, 141370, 132414, 237026, 241339, 236918, 236900, 74836, 27502, 120460, 100083, 1018, 240046, 237766, 150341, 237221, 30958, 53700, 19389, 237214, 1018, 121887, 236924, 74624, 94757, 236900, 83700, 237914, 239409, 238124, 237110, 239471, 239614, 237479, 236900, 238003, 56059, 235450, 12870, 238477, 237369, 67845, 236900, 30546, 243140, 239471, 237206, 240514, 239471, 236924, 72422, 238477, 237369, 67845, 238003, 150341, 237914, 238448, 236900, 150341, 236918, 189509, 238693, 172265, 238663, 237953, 237283, 237631, 237650, 236924, 108, 1018, 19697, 237026, 237611, 43078, 236918, 185411, 237184, 1018, 108, 236829, 5213, 172265, 238663, 237953, 237184, 1018, 86011, 236918, 158519, 81049, 237914, 238663, 237953, 238903, 36460, 236924, 238906, 238663, 237953, 237221, 237433, 241339, 237673, 237206, 241653, 237673, 237214, 186897, 237759, 150341, 236900, 237521, 237953, 238663, 237953, 237221, 237433, 228715, 237206, 240544, 237673, 237214, 144174, 237759, 150341, 236924, 107, 236829, 5213, 240046, 237766, 150341, 236918, 70945, 237184, 1018, 236743, 240046, 237766, 150341, 92427, 238906, 238663, 237953, 237914, 186897, 237759, 235450, 12870, 238477, 237369, 67845, 150341, 236900, 150341, 236918, 189509, 238693, 238663, 237953, 237283, 237631, 237650, 236924, 107, 236829, 5213, 83700, 172265, 238663, 237953, 237184, 1018, 236743, 83700, 237914, 53449, 27151, 241339, 237673, 237206, 241653, 40074, 237914, 236900, 237678, 92793, 83700, 237914, 138207, 237238, 71216, 52325, 236900, 238010, 16829, 150701, 241339, 237673, 237206, 241653, 237673, 236924, 107, 236829, 5213, 95202, 13125, 20748, 241339, 237673, 237184, 1018, 138, 92793, 241339, 237673, 237914, 237759, 150341, 237238, 235450, 12870, 14800, 25718, 236900, 23041, 13125, 239290, 141370, 237506, 237967, 236900, 20748, 15093, 237611, 240351, 240645, 236918, 241339, 237673, 237914, 236900, 12442, 141370, 163494, 237026, 241339, 40074, 236924, 108, 1018, 238524, 237506, 141370, 237026, 241339, 40074, 236900, 46078, 237026, 141370, 12870, 63647, 237914, 238448, 117446, 150341, 237089, 236900, 25773, 237811, 76743, 241339, 237673, 237914, 238184, 42099, 172935, 84912, 58229, 236924, 1018, 108, 1018, 15578, 158519, 237536, 1018, 108, 236829, 5213, 228715, 237206, 240544, 237673, 237184, 1018, 138, 83700, 237914, 12870, 240544, 237673, 237206, 228715, 237914, 237759, 150341, 236918, 30750, 239350, 237811, 236900, 12442, 162576, 186897, 239409, 239109, 240706, 239614, 236900, 12442, 141370, 150701, 228715, 237206, 240544, 237673, 236924, 107, 236829, 5213, 237205, 238468, 237479, 141370, 236918, 158519, 237184, 1018, 19729, 237205, 238468, 237479, 236900, 83700, 237914, 10042, 239409, 238124, 237611, 239448, 29854, 239471, 239614, 236900, 241339, 237673, 237914, 237759, 150341, 237439, 24894, 236900, 180986, 239691, 237914, 237206, 240544, 237914, 236900, 12442, 13125, 187945, 237205, 238468, 141370, 237026, 239691, 40074, 236924, 108, 21226, 17161, 185411, 93840, 215620, 61383, 141370, 95202, 237026, 241339, 40074, 237354, 107], 'total_duration': 73250303090, 'load_duration': 187407647, 'prompt_eval_count': 15, 'prompt_eval_duration': 849972916, 'eval_count': 398, 'eval_duration': 72211989489}\n"
     ]
    }
   ],
   "source": [
    "import requests\n",
    "\n",
    "url = 'http://localhost:11434/api/generate'\n",
    "response = requests.post(url, json={\n",
    "    \"model\": \"gemma3:1b\",\n",
    "    \"prompt\":\"天空為什麼是藍的?\",\n",
    "    \"stream\": False\n",
    "})\n",
    "if response.status_code == 200:\n",
    "    print(\"連線成功\")\n",
    "    print(response.json())\n",
    "\n",
    "else:\n",
    "    print(\"連線失敗\")\n",
    "    print(\"原因\",response.status_code)"
   ]
  }
 ],
 "metadata": {
  "kernelspec": {
   "display_name": "line_bot",
   "language": "python",
   "name": "python3"
  },
  "language_info": {
   "codemirror_mode": {
    "name": "ipython",
    "version": 3
   },
   "file_extension": ".py",
   "mimetype": "text/x-python",
   "name": "python",
   "nbconvert_exporter": "python",
   "pygments_lexer": "ipython3",
   "version": "3.12.11"
  }
 },
 "nbformat": 4,
 "nbformat_minor": 5
}
